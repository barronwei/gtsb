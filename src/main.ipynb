{
 "cells": [
  {
   "cell_type": "code",
   "execution_count": null,
   "metadata": {},
   "outputs": [],
   "source": [
    "import numpy as np\n",
    "import scipy as sp\n",
    "import pandas as pd\n",
    "import seaborn as sb\n",
    "import textblob as tb\n",
    "\n",
    "file_name = \"../data/pizza.json\"\n",
    "\n",
    "data = pd.read_json(file_name)\n",
    "cols = data.columns\n",
    "\n",
    "\"\"\"\n",
    "Drop irrelevant columns\n",
    "\"\"\"\n",
    "\n",
    "keep_cols = [0, 1, 2, 5, 6, 8, 22, 25, 28, 29]\n",
    "data = data[cols[keep_cols]]"
   ]
  },
  {
   "cell_type": "code",
   "execution_count": null,
   "metadata": {},
   "outputs": [],
   "source": [
    "\"\"\"\n",
    "Empty class\n",
    "\"\"\"\n",
    "\n",
    "class Analysis(object):\n",
    "    pass\n",
    "\n",
    "\"\"\"\n",
    "Group data, sentiment analysis, and analysis summary into Analysis object\n",
    "\"\"\"\n",
    "\n",
    "def stats(data):\n",
    "    res = Analysis()\n",
    "    \n",
    "    sent_text = [tb.TextBlob(s).sentiment.polarity for s in data[data.columns[4]]]\n",
    "    sent_head = [tb.TextBlob(s).sentiment.polarity for s in data[data.columns[5]]]\n",
    "    \n",
    "    net_votes = data[data.columns[2]] - data[data.columns[1]]\n",
    "    \n",
    "    data = data.assign(sentiment_text = sent_text, sentiment_head = sent_head, net_votes = net_votes)\n",
    "    desc = [data[c].describe() for c in data.columns]\n",
    "    \n",
    "    res.cols = data.columns\n",
    "    res.data = data\n",
    "    res.corr = data.corr()\n",
    "    res.desc = desc\n",
    "    \n",
    "    return res"
   ]
  },
  {
   "cell_type": "code",
   "execution_count": 1,
   "metadata": {},
   "outputs": [
    {
     "ename": "NameError",
     "evalue": "name 'data' is not defined",
     "output_type": "error",
     "traceback": [
      "\u001b[0;31m---------------------------------------------------------------------------\u001b[0m",
      "\u001b[0;31mNameError\u001b[0m                                 Traceback (most recent call last)",
      "\u001b[0;32m<ipython-input-1-1d927834a192>\u001b[0m in \u001b[0;36m<module>\u001b[0;34m\u001b[0m\n\u001b[1;32m      3\u001b[0m \"\"\"\n\u001b[1;32m      4\u001b[0m \u001b[0;34m\u001b[0m\u001b[0m\n\u001b[0;32m----> 5\u001b[0;31m \u001b[0mis_settled\u001b[0m \u001b[0;34m=\u001b[0m \u001b[0mdata\u001b[0m\u001b[0;34m[\u001b[0m\u001b[0mdata\u001b[0m\u001b[0;34m.\u001b[0m\u001b[0mcolumns\u001b[0m\u001b[0;34m[\u001b[0m\u001b[0;36m6\u001b[0m\u001b[0;34m]\u001b[0m\u001b[0;34m]\u001b[0m\u001b[0;34m\u001b[0m\u001b[0;34m\u001b[0m\u001b[0m\n\u001b[0m\u001b[1;32m      6\u001b[0m \u001b[0msettled\u001b[0m \u001b[0;34m=\u001b[0m \u001b[0mdata\u001b[0m\u001b[0;34m[\u001b[0m\u001b[0mis_settled\u001b[0m\u001b[0;34m]\u001b[0m\u001b[0;34m\u001b[0m\u001b[0;34m\u001b[0m\u001b[0m\n\u001b[1;32m      7\u001b[0m \u001b[0;34m\u001b[0m\u001b[0m\n",
      "\u001b[0;31mNameError\u001b[0m: name 'data' is not defined"
     ]
    }
   ],
   "source": [
    "\"\"\"\n",
    "These requests are fulfilled\n",
    "\"\"\"\n",
    "\n",
    "is_settled = data[data.columns[6]]\n",
    "settled = data[is_settled]\n",
    "\n",
    "\"\"\"\n",
    "These requests are unfulfilled\n",
    "\"\"\"\n",
    "\n",
    "is_lacking = np.invert(is_settled)\n",
    "lacking = data[is_lacking]\n",
    "\n",
    "\"\"\"\n",
    "stats_s = stats(settled)\n",
    "stats_l = stats(lacking.sample(len(settled)))\n",
    "\"\"\"\n",
    "\n",
    "stats_s = stats(settled)\n",
    "stats_l = stats(lacking)"
   ]
  },
  {
   "cell_type": "code",
   "execution_count": 2,
   "metadata": {},
   "outputs": [],
   "source": [
    "\"\"\"\n",
    "Graph ticks\n",
    "\"\"\"\n",
    "\n",
    "x_ticks = [-1, -0.8, -0.6, -0.4, -0.2, 0, 0.2, 0.4, 0.6, 0.8, 1]\n",
    "y_ticks = [0, 1, 2, 3]"
   ]
  },
  {
   "cell_type": "code",
   "execution_count": null,
   "metadata": {},
   "outputs": [],
   "source": [
    "\"\"\"\n",
    "Density plot\n",
    "\"\"\"\n",
    "\n",
    "g = sb.kdeplot(stats_s.data[stats_s.cols[10]])\n",
    "r = g.set(xticks = x_ticks, yticks = y_ticks)"
   ]
  },
  {
   "cell_type": "code",
   "execution_count": null,
   "metadata": {},
   "outputs": [],
   "source": [
    "\"\"\"\n",
    "Density plot\n",
    "\"\"\"\n",
    "\n",
    "g = sb.kdeplot(stats_l.data[stats_l.cols[10]])\n",
    "r = g.set(xticks = x_ticks, yticks = y_ticks)"
   ]
  },
  {
   "cell_type": "code",
   "execution_count": null,
   "metadata": {},
   "outputs": [],
   "source": [
    "stats_s.desc[10]"
   ]
  },
  {
   "cell_type": "code",
   "execution_count": null,
   "metadata": {},
   "outputs": [],
   "source": [
    "stats_l.desc[10]"
   ]
  },
  {
   "cell_type": "code",
   "execution_count": null,
   "metadata": {},
   "outputs": [],
   "source": [
    "\"\"\"\n",
    "Abstraction for finding statistical significance\n",
    "\"\"\"\n",
    "\n",
    "def ttest(a, b):\n",
    "    return sp.stats.ttest_ind(a, b).pvalue\n",
    "\n",
    "def ttest_data(a, b):\n",
    "    keep_cols = [1, 2, 3, 6, 7, 10, 11, 12]\n",
    "    cols = len(keep_cols)\n",
    "    \n",
    "    a = a[a.columns[keep_cols]]\n",
    "    b = b[b.columns[keep_cols]]\n",
    "    \n",
    "    pvals = [ttest(a[c], b[c]) for c in a.columns]\n",
    "    res = {a.columns[i]: pvals[i] for i in range(cols)}\n",
    "    return res"
   ]
  },
  {
   "cell_type": "code",
   "execution_count": null,
   "metadata": {},
   "outputs": [],
   "source": [
    "cmp = ttest_data(stats_s.data, stats_l.data)"
   ]
  },
  {
   "cell_type": "code",
   "execution_count": null,
   "metadata": {},
   "outputs": [],
   "source": [
    "\"\"\"\n",
    "Filter function\n",
    "\"\"\"\n",
    "\n",
    "def is_sig(v):\n",
    "    return v < 0.05\n",
    "\n",
    "sig = {c: v for (c, v) in cmp.items() if is_sig(v)}"
   ]
  },
  {
   "cell_type": "code",
   "execution_count": null,
   "metadata": {},
   "outputs": [],
   "source": [
    "\"\"\"\n",
    "Significant differences\n",
    "\"\"\"\n",
    "\n",
    "sig"
   ]
  }
 ],
 "metadata": {
  "kernelspec": {
   "display_name": "Python 3",
   "language": "python",
   "name": "python3"
  },
  "language_info": {
   "codemirror_mode": {
    "name": "ipython",
    "version": 3
   },
   "file_extension": ".py",
   "mimetype": "text/x-python",
   "name": "python",
   "nbconvert_exporter": "python",
   "pygments_lexer": "ipython3",
   "version": "3.7.5"
  }
 },
 "nbformat": 4,
 "nbformat_minor": 4
}