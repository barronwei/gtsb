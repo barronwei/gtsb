{
 "cells": [
  {
   "cell_type": "code",
   "execution_count": null,
   "metadata": {},
   "outputs": [],
   "source": [
    "import pandas\n",
    "from textblob import TextBlob as tb\n",
    "\n",
    "file_name = '../data/pizza/pizza.json'\n",
    "\n",
    "data = pandas.read_json(file_name)\n",
    "drop_cols = [1, 4, 5, 7, 10, 11 , 14, 15]\n",
    "\n",
    "data.drop(data.columns[drop_cols], axis = 1, inplace = True)"
   ]
  },
  {
   "cell_type": "code",
   "execution_count": null,
   "metadata": {},
   "outputs": [],
   "source": [
    "class Analysis(object):\n",
    "    pass\n",
    "\n",
    "def stats(data):\n",
    "    res = Analysis()\n",
    "    \n",
    "    sent_text = [tb(s).sentiment.polarity for s in data[data.columns[1]]]\n",
    "    sent_head = [tb(s).sentiment.polarity for s in data[data.columns[2]]]\n",
    "    \n",
    "    data = data.assign(sentiment_text = sent_text, sentiment_head = sent_head)\n",
    "    desc = [data[c].describe() for c in data.columns]\n",
    "    \n",
    "    res.corr = data.corr()\n",
    "    res.desc = desc\n",
    "    \n",
    "    return res"
   ]
  },
  {
   "cell_type": "code",
   "execution_count": null,
   "metadata": {},
   "outputs": [],
   "source": [
    "is_settled = data[data.columns[0]] != 'N/A'\n",
    "settled = data[is_fulfilled]\n",
    "\n",
    "is_lacking = data[data.columns[0]] == 'N/A'\n",
    "lacking = data[is_lacking]\n",
    "\n",
    "stats_settled = stats(settled)\n",
    "stats_lacking = stats(lacking)"
   ]
  }
 ],
 "metadata": {
  "kernelspec": {
   "display_name": "Python 3",
   "language": "python",
   "name": "python3"
  },
  "language_info": {
   "codemirror_mode": {
    "name": "ipython",
    "version": 3
   },
   "file_extension": ".py",
   "mimetype": "text/x-python",
   "name": "python",
   "nbconvert_exporter": "python",
   "pygments_lexer": "ipython3",
   "version": "3.7.5"
  }
 },
 "nbformat": 4,
 "nbformat_minor": 4
}
