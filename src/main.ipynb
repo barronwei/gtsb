{
 "cells": [
  {
   "cell_type": "code",
   "execution_count": null,
   "metadata": {},
   "outputs": [],
   "source": [
    "import pandas\n",
    "from textblob import TextBlob as tb\n",
    "\n",
    "file_name = '../data/pizza/pizza.json'\n",
    "\n",
    "data = pandas.read_json(file_name)\n",
    "drop_cols = [1, 4, 5, 7, 10, 11 , 14, 15]\n",
    "\n",
    "data.drop(data.columns[drop_cols], axis = 1, inplace = True)"
   ]
  },
  {
   "cell_type": "code",
   "execution_count": null,
   "metadata": {},
   "outputs": [],
   "source": [
    "is_fulfilled = data[data.columns[0]] != 'N/A'\n",
    "complete = data[is_fulfilled]\n",
    "cols = complete.columns"
   ]
  },
  {
   "cell_type": "code",
   "execution_count": null,
   "metadata": {},
   "outputs": [],
   "source": [
    "len(complete)\n",
    "complete.head()"
   ]
  },
  {
   "cell_type": "code",
   "execution_count": null,
   "metadata": {},
   "outputs": [],
   "source": [
    "sentiment = [tb(s).sentiment.polarity for s in complete[cols[1]]]\n",
    "complete.assign(sentiment = sentiment)"
   ]
  }
 ],
 "metadata": {
  "kernelspec": {
   "display_name": "Python 3",
   "language": "python",
   "name": "python3"
  },
  "language_info": {
   "codemirror_mode": {
    "name": "ipython",
    "version": 3
   },
   "file_extension": ".py",
   "mimetype": "text/x-python",
   "name": "python",
   "nbconvert_exporter": "python",
   "pygments_lexer": "ipython3",
   "version": "3.7.5"
  }
 },
 "nbformat": 4,
 "nbformat_minor": 4
}
