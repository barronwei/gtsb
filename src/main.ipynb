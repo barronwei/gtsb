{
 "cells": [
  {
   "cell_type": "code",
   "execution_count": null,
   "metadata": {},
   "outputs": [],
   "source": [
    "import numpy as np\n",
    "import pandas as pd\n",
    "import seaborn as sb\n",
    "import textblob as tb\n",
    "\n",
    "file_name = '../data/pizza/pizza.json'\n",
    "\n",
    "data = pd.read_json(file_name)\n",
    "cols = data.columns\n",
    "\n",
    "keep_cols = [0, 1, 2, 5, 6, 8, 22, 25, 28, 29]\n",
    "data = data[cols[keep_cols]]"
   ]
  },
  {
   "cell_type": "code",
   "execution_count": null,
   "metadata": {},
   "outputs": [],
   "source": [
    "class Analysis(object):\n",
    "    pass\n",
    "\n",
    "def stats(data):\n",
    "    res = Analysis()\n",
    "    \n",
    "    sent_text = [tb.TextBlob(s).sentiment.polarity for s in data[data.columns[4]]]\n",
    "    sent_head = [tb.TextBlob(s).sentiment.polarity for s in data[data.columns[5]]]\n",
    "    \n",
    "    net_votes = data[data.columns[2]] - data[data.columns[1]]\n",
    "    \n",
    "    data = data.assign(sentiment_text = sent_text, sentiment_head = sent_head, net_votes = net_votes)\n",
    "    desc = [data[c].describe() for c in data.columns]\n",
    "    \n",
    "    res.cols = data.columns\n",
    "    res.data = data\n",
    "    res.corr = data.corr()\n",
    "    res.desc = desc\n",
    "    \n",
    "    return res"
   ]
  },
  {
   "cell_type": "code",
   "execution_count": null,
   "metadata": {},
   "outputs": [],
   "source": [
    "is_settled = data[data.columns[6]]\n",
    "settled = data[is_settled]\n",
    "\n",
    "is_lacking = np.invert(is_settled)\n",
    "lacking = data[is_lacking]\n",
    "\n",
    "stats_s = stats(settled)\n",
    "stats_l = stats(lacking.sample(len(settled)))"
   ]
  },
  {
   "cell_type": "code",
   "execution_count": null,
   "metadata": {},
   "outputs": [],
   "source": [
    "x_ticks = [-1, -0.8, -0.6, -0.4, -0.2, 0, 0.2, 0.4, 0.6, 0.8, 1]\n",
    "y_ticks = [0, 1, 2, 3]"
   ]
  },
  {
   "cell_type": "code",
   "execution_count": null,
   "metadata": {},
   "outputs": [],
   "source": [
    "g = sb.kdeplot(stats_s.data[stats_s.cols[10]])\n",
    "r = g.set(xticks = x_ticks, yticks = y_ticks)"
   ]
  },
  {
   "cell_type": "code",
   "execution_count": null,
   "metadata": {},
   "outputs": [],
   "source": [
    "g = sb.kdeplot(stats_l.data[stats_l.cols[10]])\n",
    "r = g.set(xticks = x_ticks, yticks = y_ticks)"
   ]
  },
  {
   "cell_type": "code",
   "execution_count": null,
   "metadata": {},
   "outputs": [],
   "source": [
    "stats_s.desc[10]"
   ]
  },
  {
   "cell_type": "code",
   "execution_count": null,
   "metadata": {},
   "outputs": [],
   "source": [
    "stats_l.desc[10]"
   ]
  }
 ],
 "metadata": {
  "kernelspec": {
   "display_name": "Python 3",
   "language": "python",
   "name": "python3"
  },
  "language_info": {
   "codemirror_mode": {
    "name": "ipython",
    "version": 3
   },
   "file_extension": ".py",
   "mimetype": "text/x-python",
   "name": "python",
   "nbconvert_exporter": "python",
   "pygments_lexer": "ipython3",
   "version": "3.7.5"
  }
 },
 "nbformat": 4,
 "nbformat_minor": 4
}
